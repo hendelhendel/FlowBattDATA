{
 "cells": [
  {
   "cell_type": "code",
   "execution_count": 20,
   "id": "cc5d5a82",
   "metadata": {},
   "outputs": [],
   "source": [
    "# Data\n",
    "import pandas as pd\n",
    "import numpy as np"
   ]
  },
  {
   "cell_type": "code",
   "execution_count": 46,
   "id": "a48ec7b0",
   "metadata": {},
   "outputs": [
    {
     "name": "stdout",
     "output_type": "stream",
     "text": [
      "[['yes', 'zin een', 'zin twee', 'zin drie'], ['yes', 'zin uno', 'zin dos'], ['no', 'no']]\n"
     ]
    },
    {
     "data": {
      "text/plain": [
       "'zin uno'"
      ]
     },
     "execution_count": 46,
     "metadata": {},
     "output_type": "execute_result"
    }
   ],
   "source": [
    "result = \"Result is given by:\"\n",
    "keyword = \"Ontologische term gevonden in\"\n",
    "list1 = [\"yes\",\"zin een\",\"zin twee\",\"zin drie\"]\n",
    "list2 = [\"yes\",\"zin uno\",\"zin dos\"]\n",
    "list3 = [\"no\",\"no\"]\n",
    "table = [list1,list2,list3]\n",
    "print(table)\n",
    "table[1][1]"
   ]
  },
  {
   "cell_type": "code",
   "execution_count": 47,
   "id": "953599b4",
   "metadata": {},
   "outputs": [
    {
     "name": "stdout",
     "output_type": "stream",
     "text": [
      "Result is given by:\n",
      "   Ontologische term gevonden in\n",
      "      zin een\n",
      "      zin twee\n",
      "      zin drie\n",
      "   Ontologische term gevonden in\n",
      "      zin uno\n",
      "      zin dos\n"
     ]
    }
   ],
   "source": [
    "for j in range(len(table)):\n",
    "    if table[j][0] == 'yes':\n",
    "        result = result + \"\\n   \" + keyword\n",
    "        for k in range(1,len(table[j])):\n",
    "            result = result + \"\\n      \" + table[j][k]\n",
    "\n",
    "print(result)"
   ]
  },
  {
   "cell_type": "code",
   "execution_count": 42,
   "id": "1391622a",
   "metadata": {},
   "outputs": [
    {
     "data": {
      "text/plain": [
       "'yes'"
      ]
     },
     "execution_count": 42,
     "metadata": {},
     "output_type": "execute_result"
    }
   ],
   "source": [
    "table[1][0]"
   ]
  },
  {
   "cell_type": "code",
   "execution_count": 1,
   "id": "803d9f12",
   "metadata": {},
   "outputs": [
    {
     "data": {
      "text/plain": [
       "0"
      ]
     },
     "execution_count": 1,
     "metadata": {},
     "output_type": "execute_result"
    }
   ],
   "source": [
    "from PyQt5.QtWidgets import QApplication, QMainWindow, QPushButton, QLabel, QVBoxLayout, QWidget\n",
    "\n",
    "import sys\n",
    "\n",
    "\n",
    "class AnotherWindow(QWidget):\n",
    "    \"\"\"\n",
    "    This \"window\" is a QWidget. If it has no parent, it\n",
    "    will appear as a free-floating window as we want.\n",
    "    \"\"\"\n",
    "    def __init__(self):\n",
    "        super().__init__()\n",
    "        layout = QVBoxLayout()\n",
    "        self.label = QLabel(\"Another Window\")\n",
    "        layout.addWidget(self.label)\n",
    "        self.setLayout(layout)\n",
    "\n",
    "\n",
    "class MainWindow(QMainWindow):\n",
    "\n",
    "    def __init__(self):\n",
    "        super().__init__()\n",
    "        self.button = QPushButton(\"Push for Window\")\n",
    "        self.button.clicked.connect(self.show_new_window)\n",
    "        self.setCentralWidget(self.button)\n",
    "\n",
    "    def show_new_window(self, checked):\n",
    "        w = AnotherWindow()\n",
    "        w.show()\n",
    "\n",
    "\n",
    "app = QApplication(sys.argv)\n",
    "w = MainWindow()\n",
    "w.show()\n",
    "app.exec()"
   ]
  },
  {
   "cell_type": "code",
   "execution_count": 23,
   "id": "ccf1eb45",
   "metadata": {},
   "outputs": [],
   "source": [
    "# Woordenzak\n",
    "\n",
    "doc1 = \"appel peer banaan\"\n",
    "doc2 = \"appel appel appel banaan\"\n",
    "doc3 = \"peer peer banaan\"\n",
    "doc4 = \"Frikandellen krokketen en mayo\"\n",
    "doc5 = \"Dit is een ander soort document waarin geen boodschappen of bestellingen voorkomen\" \n",
    "\n",
    "zak = {doc1,doc2,doc3,doc4,doc5}\n",
    "N = len(zak) #Number of documents"
   ]
  },
  {
   "cell_type": "code",
   "execution_count": 13,
   "id": "c40d431b",
   "metadata": {},
   "outputs": [],
   "source": [
    "def IDF(q):\n",
    "    num: N + 1 \n",
    "    denum: n(q) + 0.5\n",
    "    np.log(num/denum)\n",
    "    \n",
    "def BM_25(D,Q):\n",
    "    ans = len(D) + len(Q)\n",
    "    print(ans)"
   ]
  },
  {
   "cell_type": "code",
   "execution_count": 30,
   "id": "5cd19329",
   "metadata": {},
   "outputs": [
    {
     "ename": "SyntaxError",
     "evalue": "invalid syntax (859033494.py, line 10)",
     "output_type": "error",
     "traceback": [
      "\u001b[0;36m  Input \u001b[0;32mIn [30]\u001b[0;36m\u001b[0m\n\u001b[0;31m    storage.append {(word,,doc, ans)}\u001b[0m\n\u001b[0m                   ^\u001b[0m\n\u001b[0;31mSyntaxError\u001b[0m\u001b[0;31m:\u001b[0m invalid syntax\n"
     ]
    }
   ],
   "source": [
    "query = {\"appel\",\"peer\"}\n",
    "storage = {}\n",
    "for word in query:\n",
    "    for doc in zak:\n",
    "        ans = 0\n",
    "        if doc.find(word) != -1:\n",
    "            ans = ans + 1\n",
    "        else: \n",
    "            ans = ans + 0\n",
    "        storage.append {(word,,doc, ans)}\n",
    "        print(ans)   \n",
    "        \n",
    "        \n",
    "        \n",
    "        \n",
    "n = len(Query)\n",
    "\n",
    "f = 1 #number of times q_j occurs in document D"
   ]
  },
  {
   "cell_type": "code",
   "execution_count": null,
   "id": "69e5e0a6",
   "metadata": {},
   "outputs": [],
   "source": [
    "print(len(doc1))\n",
    "print(len(Q))\n",
    "BM_25(doc1,Query)"
   ]
  },
  {
   "cell_type": "code",
   "execution_count": 25,
   "id": "0622e942",
   "metadata": {},
   "outputs": [
    {
     "data": {
      "text/plain": [
       "1041.6666666666667"
      ]
     },
     "execution_count": 25,
     "metadata": {},
     "output_type": "execute_result"
    }
   ],
   "source": [
    "np.log(np.exp(3))\n",
    "400000/(2*4*48)"
   ]
  }
 ],
 "metadata": {
  "kernelspec": {
   "display_name": "Python 3 (ipykernel)",
   "language": "python",
   "name": "python3"
  },
  "language_info": {
   "codemirror_mode": {
    "name": "ipython",
    "version": 3
   },
   "file_extension": ".py",
   "mimetype": "text/x-python",
   "name": "python",
   "nbconvert_exporter": "python",
   "pygments_lexer": "ipython3",
   "version": "3.9.12"
  }
 },
 "nbformat": 4,
 "nbformat_minor": 5
}
